{
 "cells": [
  {
   "cell_type": "markdown",
   "id": "runjCIxAEerl",
   "metadata": {
    "id": "runjCIxAEerl"
   },
   "source": [
    "# Build a Dashboard Application with Plotly Dash\n",
    "\n",
    "In this lab, you will be building a Plotly Dash application for users to perform interactive visual analytics on SpaceX launch data in real-time.\n",
    "\n",
    "This dashboard application contains input components such as a dropdown list and a range slider to interact with a pie chart and a scatter point chart. You will be guided to build this dashboard application via the following tasks:\n",
    "\n",
    "  -  TASK 1: Add a Launch Site Drop-down Input Component\n",
    "  -  TASK 2: Add a callback function to render success-pie-chart based on selected site dropdown\n",
    "  -  TASK 3: Add a Range Slider to Select Payload\n",
    "  -  TASK 4: Add a callback function to render the success-payload-scatter-chart scatter plot\n",
    "\n",
    " Note:Please take screenshots of the Dashboard and save them. Further upload your notebook to github.\n",
    "\n",
    "The github url and the screenshots are later required in the presentation slides.\n",
    "\n",
    "After visual analysis using the dashboard, you should be able to obtain some insights to answer the following five questions:\n",
    "\n",
    "  -  Which site has the largest successful launches?\n",
    "  -  Which site has the highest launch success rate?\n",
    "  -  Which payload range(s) has the highest launch success rate?\n",
    "  -  Which payload range(s) has the lowest launch success rate?\n",
    "  -  Which F9 Booster version (v1.0, v1.1, FT, B4, B5, etc.) has the highest launch success rate?\n",
    "\n",
    "Estimated time needed: 90 minutes\n"
   ]
  },
  {
   "cell_type": "markdown",
   "id": "qnstWvdaF9Kn",
   "metadata": {
    "id": "qnstWvdaF9Kn"
   },
   "source": [
    "### TASK 1: Add a Launch Site Drop-down Input Component\n",
    "\n",
    "We have four different launch sites and we would like to first see which one has the largest success count. Then, we would like to select one specific site and check its detailed success rate (class=0 vs. class=1).\n",
    "\n",
    "As such, we will need a dropdown menu to let us select different launch sites.\n",
    "\n",
    "Find and complete a commented dcc.Dropdown(id='site-dropdown',...) input with following attributes:\n",
    "- id attribute with value site-dropdown\n",
    "- options attribute is a list of dict-like option objects (with label and value attributes). \n",
    "\n",
    "You can set the label and value all to be the launch site names in the spacex_df and you need to include the default All option. e.g.,\n",
    "\n",
    "      options=[{'label': 'All Sites', 'value': 'ALL'},{'label': 'site1', 'value': 'site1'}, ...]\n",
    "\n",
    "- value attribute with default dropdown value to be ALL meaning all sites are selected\n",
    "- placeholder attribute to show a text description about this input area, such as Select a Launch Site here\n",
    "- searchable attribute to be True so we can enter keywords to search launch sites\n"
   ]
  },
  {
   "cell_type": "markdown",
   "id": "481f62da-a17c-4462-af9a-6fe872069b47",
   "metadata": {
    "tags": []
   },
   "source": [
    "### TASK 2: Add a callback function to render success-pie-chart based on selected site dropdown\n",
    "\n",
    "The general idea of this callback function is to get the selected launch site from site-dropdown and render a pie chart visualizing launch success counts.\n",
    "\n",
    "Dash callback function is a type of Python function which will be automatically called by Dash whenever receiving an input component updates, such as a click or dropdown selecting event.\n",
    "\n",
    "If you need to refresh your memory about Plotly Dash callback functions, you may refer to the lab you have learned before:\n",
    "\n",
    "Plotly Dash Lab\n",
    "\n",
    "Let's add a callback function in spacex_dash_app.py including the following application logic:\n",
    "\n",
    "- Input is set to be the site-dropdown dropdown, i.e., Input(component_id='site-dropdown', component_property='value')\n",
    "- Output to be the graph with id success-pie-chart, i.e., Output(component_id='success-pie-chart', component_property='figure')\n",
    "- A If-Else statement to check if ALL sites were selected or just a specific launch site was selected\n",
    "  - If ALL sites are selected, we will use all rows in the dataframe spacex_df to render and return a pie chart graph to show the total success launches (i.e., the total count of class column)\n",
    "  - If a specific launch site is selected, you need to filter the dataframe spacex_df first in order\n",
    "to include the only data for the selected site. Then, render and return a pie chart graph to show the success (class=1) count and failed (class=0) count for the selected site."
   ]
  },
  {
   "cell_type": "markdown",
   "id": "19470d38-97cb-4a67-9266-db9098cfc352",
   "metadata": {},
   "source": [
    "### TASK 3: Add a Range Slider to Select Payload\n",
    "\n",
    "Next, we want to find if variable payload is correlated to mission outcome. From a dashboard point of view, we want to be able to easily select different payload range and see if we can identify some visual patterns.\n",
    "\n",
    "Find and complete a commented dcc.RangeSlider(id='payload-slider',...) input with the following attribute:\n",
    "\n",
    "- id to be payload-slider\n",
    "- min indicating the slider starting point, we set its value to be 0 (Kg)\n",
    "- max indicating the slider ending point to, we set its value to be 10000 (Kg)\n",
    "- step indicating the slider interval on the slider, we set its value to be 1000 (Kg)\n",
    "- value indicating the current selected range, we could set it to be min_payload and max_payload\n"
   ]
  },
  {
   "cell_type": "markdown",
   "id": "69071ac9-1f52-470b-8ac3-beb1ec8e72e2",
   "metadata": {
    "colab": {
     "base_uri": "https://localhost:8080/"
    },
    "id": "qn5Q5saLKnK5",
    "outputId": "4e11f39c-5cbd-4eab-f51f-db62a83e7baa"
   },
   "source": [
    "### TASK 4: Add a callback function to render the success-payload-scatter-chart scatter plot\n",
    "\n",
    "Next, we want to plot a scatter plot with the x axis to be the payload and the y axis to be the launch outcome (i.e., class column). As such, we can visually observe how payload may be correlated with mission outcomes for selected site(s).\n",
    "\n",
    "In addition, we want to color-label the Booster version on each scatter point so that we may observe mission outcomes with different boosters.\n",
    "\n",
    "Now, let's add a call function including the following application logic:\n",
    "\n",
    "- Input to be [Input(component_id='site-dropdown', component_property='value'), Input(component_id=\"payload-slider\", component_property=\"value\")] Note that we have two input components, one to receive selected launch site and another to receive selected payload range\n",
    "- Output to be Output(component_id='success-payload-scatter-chart', component_property='figure')\n",
    "- A If-Else statement to check if ALL sites were selected or just a specific launch site was selected\n",
    "  - If ALL sites are selected, render a scatter plot to display all values for variable Payload Mass (kg) and variable class.\n",
    "  \n",
    "  In addition, the point color needs to be set to the booster version i.e., color=\"Booster Version Category\"\n",
    "  - If a specific launch site is selected, you need to filter the spacex_df first, and render a scatter chart to show\n",
    "    values Payload Mass (kg) and class for the selected site, and color-label the point using Boosster Version Category likewise."
   ]
  },
  {
   "cell_type": "code",
   "execution_count": 2,
   "id": "vjRDEujXMmGh",
   "metadata": {
    "colab": {
     "base_uri": "https://localhost:8080/",
     "height": 1000
    },
    "id": "vjRDEujXMmGh",
    "outputId": "f77641e4-8e94-4f8d-a66e-cb19ec41ec0f"
   },
   "outputs": [],
   "source": [
    "#!pip install jupyter_dash\n",
    "\n",
    "from jupyter_dash import JupyterDash\n",
    "from dash import html, dcc\n",
    "import pandas as pd\n",
    "import plotly.express as px\n",
    "from dash.dependencies import Input, Output"
   ]
  },
  {
   "cell_type": "code",
   "execution_count": 10,
   "id": "qn5Q5saLKnK5",
   "metadata": {
    "colab": {
     "base_uri": "https://localhost:8080/"
    },
    "id": "qn5Q5saLKnK5",
    "outputId": "4e11f39c-5cbd-4eab-f51f-db62a83e7baa"
   },
   "outputs": [],
   "source": [
    "# Download and read the `spacex_launch_geo.csv`\n",
    "spacex_df=pd.read_csv('https://cf-courses-data.s3.us.cloud-object-storage.appdomain.cloud/IBM-DS0321EN-SkillsNetwork/datasets/spacex_launch_dash.csv')\n"
   ]
  },
  {
   "cell_type": "code",
   "execution_count": 14,
   "id": "q1Dgdp1xLVhK",
   "metadata": {
    "colab": {
     "base_uri": "https://localhost:8080/",
     "height": 175
    },
    "id": "q1Dgdp1xLVhK",
    "outputId": "39aaa032-0094-4b19-899b-d2fe8b653303"
   },
   "outputs": [
    {
     "data": {
      "text/html": [
       "<div>\n",
       "<style scoped>\n",
       "    .dataframe tbody tr th:only-of-type {\n",
       "        vertical-align: middle;\n",
       "    }\n",
       "\n",
       "    .dataframe tbody tr th {\n",
       "        vertical-align: top;\n",
       "    }\n",
       "\n",
       "    .dataframe thead th {\n",
       "        text-align: right;\n",
       "    }\n",
       "</style>\n",
       "<table border=\"1\" class=\"dataframe\">\n",
       "  <thead>\n",
       "    <tr style=\"text-align: right;\">\n",
       "      <th></th>\n",
       "      <th>Launch Site</th>\n",
       "      <th>Booster Version Category</th>\n",
       "      <th>Payload Mass (kg)</th>\n",
       "      <th>class</th>\n",
       "    </tr>\n",
       "  </thead>\n",
       "  <tbody>\n",
       "    <tr>\n",
       "      <th>0</th>\n",
       "      <td>CCAFS LC-40</td>\n",
       "      <td>v1.0</td>\n",
       "      <td>0.0</td>\n",
       "      <td>0</td>\n",
       "    </tr>\n",
       "    <tr>\n",
       "      <th>1</th>\n",
       "      <td>CCAFS LC-40</td>\n",
       "      <td>v1.0</td>\n",
       "      <td>0.0</td>\n",
       "      <td>0</td>\n",
       "    </tr>\n",
       "    <tr>\n",
       "      <th>2</th>\n",
       "      <td>CCAFS LC-40</td>\n",
       "      <td>v1.0</td>\n",
       "      <td>525.0</td>\n",
       "      <td>0</td>\n",
       "    </tr>\n",
       "    <tr>\n",
       "      <th>3</th>\n",
       "      <td>CCAFS LC-40</td>\n",
       "      <td>v1.0</td>\n",
       "      <td>500.0</td>\n",
       "      <td>0</td>\n",
       "    </tr>\n",
       "    <tr>\n",
       "      <th>4</th>\n",
       "      <td>CCAFS LC-40</td>\n",
       "      <td>v1.0</td>\n",
       "      <td>677.0</td>\n",
       "      <td>0</td>\n",
       "    </tr>\n",
       "  </tbody>\n",
       "</table>\n",
       "</div>"
      ],
      "text/plain": [
       "   Launch Site Booster Version Category  Payload Mass (kg)  class\n",
       "0  CCAFS LC-40                     v1.0                0.0      0\n",
       "1  CCAFS LC-40                     v1.0                0.0      0\n",
       "2  CCAFS LC-40                     v1.0              525.0      0\n",
       "3  CCAFS LC-40                     v1.0              500.0      0\n",
       "4  CCAFS LC-40                     v1.0              677.0      0"
      ]
     },
     "execution_count": 14,
     "metadata": {},
     "output_type": "execute_result"
    }
   ],
   "source": [
    "# Select relevant sub-columns: `Launch Site`, `Booster Version`, `Payload Mass (kg)`, `class`\n",
    "spacex_df = spacex_df[['Launch Site', 'Booster Version Category', 'Payload Mass (kg)', 'class']]\n",
    "min_payload = spacex_df['Payload Mass (kg)'].min()\n",
    "max_payload = spacex_df['Payload Mass (kg)'].max()\n",
    "spacex_df.head()"
   ]
  },
  {
   "cell_type": "code",
   "execution_count": 13,
   "id": "5MeJe7jlHjmS",
   "metadata": {
    "colab": {
     "base_uri": "https://localhost:8080/",
     "height": 345
    },
    "id": "5MeJe7jlHjmS",
    "outputId": "ed8a546e-5a29-4024-f4be-9ad76dff178c"
   },
   "outputs": [
    {
     "name": "stderr",
     "output_type": "stream",
     "text": [
      "C:\\Users\\PC\\anaconda3\\lib\\site-packages\\jupyter_dash\\jupyter_app.py:139: UserWarning:\n",
      "\n",
      "The 'environ['werkzeug.server.shutdown']' function is deprecated and will be removed in Werkzeug 2.1.\n",
      "\n"
     ]
    }
   ],
   "source": [
    "# Create a dash application\n",
    "app = JupyterDash(__name__)\n",
    "\n",
    "# Create an app layout\n",
    "app.layout = html.Div(children=[html.H1('SpaseX Launch Dashboard',\n",
    "                                        style={'textAlign': 'center', 'color': '#503D36', 'font-size': 40}),\n",
    "                                # TASK 1: \n",
    "                                # Add a Launch Site Drop-down Input Component\n",
    "                                 dcc.Dropdown(id='site-dropdown',\n",
    "                                              options=[\n",
    "                                                     {'label': 'All Sites', 'value': 'ALL'},\n",
    "                                                     {'label': 'CCAFS LC-40', 'value': 'CCAFS LC-40'},\n",
    "                                                     {'label': 'VAFB SLC-4E', 'value': 'VAFB SLC-4E'},\n",
    "                                                     {'label': 'KSC LC-39A', 'value': 'KSC LC-39A'},\n",
    "                                                     {'label': 'CCAFS SLC-40', 'value': 'CCAFS SLC-40'}\n",
    "                                                     ],\n",
    "                                              value='ALL',\n",
    "                                              placeholder=\"Select a Launch Site here\",\n",
    "                                              searchable=True),\n",
    "                                #TASK 2: \n",
    "                                # Render a pie chart visualizing launch success counts\n",
    "                                html.Div(dcc.Graph(id='success-pie-chart')),\n",
    "                                html.Br(),\n",
    "                                \n",
    "                                # TASK 3: \n",
    "                                # Add a Range Slider to Select Payload\n",
    "                                html.P(\"Payload range (Kg):\"),\n",
    "                                dcc.RangeSlider(id='payload-slider',\n",
    "                                                min=0, max=10000, step=1000,\n",
    "                                                 marks={0: '0', 2500: '2500', 5000: '5000', 7500: '7500', 10000: '10000'},\n",
    "                                                value=[min_payload, max_payload]),\n",
    "                                \n",
    "                                # TASK 4:\n",
    "                                # Render a scatter chart visualizing the correlation between Payload and Success\n",
    "                                html.Div(dcc.Graph(id='success-payload-scatter-chart'))                                                       \n",
    "\n",
    "                      ])\n",
    "                                   \n",
    "#TASK 2: \n",
    "# Function decorator to specify function input and output\n",
    "@app.callback(Output(component_id='success-pie-chart', component_property='figure'),\n",
    "              Input(component_id='site-dropdown', component_property='value'))\n",
    "                                \n",
    "def get_pie_chart(entered_site):\n",
    "    filtered_df = spacex_df\n",
    "    if entered_site == 'ALL':\n",
    "        fig = px.pie(filtered_df, \n",
    "                     values='class', \n",
    "                     names='Launch Site', \n",
    "                     title='Total Success Launches By Site')\n",
    "        return fig\n",
    "    else:\n",
    "        # return the outcomes piechart for a selected site\n",
    "        filtered_df = spacex_df[spacex_df['Launch Site'] == entered_site]\n",
    "        filtered_df = filtered_df.groupby(['Launch Site','class']).size().reset_index(name='class count')\n",
    "        fig = px.pie(filtered_df,\n",
    "                     values='class count', \n",
    "                     names='class',\n",
    "                     title=f\"Total Success Launches for site {entered_site}\")\n",
    "        return fig               \n",
    "# TASK 4: \n",
    "# Add a callback function to render the success-payload-scatter-chart scatter plot\n",
    "@app.callback(Output(component_id='success-payload-scatter-chart', component_property='figure'),\n",
    "              Input(component_id='site-dropdown', component_property='value'),\n",
    "             Input(component_id=\"payload-slider\", component_property=\"value\"))\n",
    "\n",
    "def get_scatter_chart(entered_site, payload_mass):\n",
    "    filtered_df = spacex_df[spacex_df['Payload Mass (kg)'].between(payload_mass[0],payload_mass[1])]\n",
    "    if entered_site == 'ALL':\n",
    "        fig = px.scatter(filtered_df, \n",
    "                         x ='Payload Mass (kg)', \n",
    "                         y ='class', \n",
    "                         color ='Booster Version Category',\n",
    "                         title='Success count on Payload mass for all sites')\n",
    "        return fig\n",
    "    else:\n",
    "        # return the outcomes piechart for a selected site\n",
    "        filtered_df = filtered_df[filtered_df['Launch Site'] == entered_site]\n",
    "        fig = px.scatter(filtered_df, \n",
    "                         x ='Payload Mass (kg)', \n",
    "                         y ='class', \n",
    "                         color ='Booster Version Category', \n",
    "                         title=f\"Success count on Payload mass for site {entered_site}\")\n",
    "        return fig  \n",
    "\n",
    "# Run the app\n",
    "if __name__ == '__main__':\n",
    "    app.run_server(mode='jupyterlab')"
   ]
  },
  {
   "cell_type": "code",
   "execution_count": null,
   "id": "96ebb921-ebec-491c-838c-b099683da7dc",
   "metadata": {},
   "outputs": [],
   "source": []
  }
 ],
 "metadata": {
  "colab": {
   "collapsed_sections": [],
   "name": "10-7-lab_theia_plotly_dash.ipynb",
   "provenance": []
  },
  "kernelspec": {
   "display_name": "Python 3 (ipykernel)",
   "language": "python",
   "name": "python3"
  },
  "language_info": {
   "codemirror_mode": {
    "name": "ipython",
    "version": 3
   },
   "file_extension": ".py",
   "mimetype": "text/x-python",
   "name": "python",
   "nbconvert_exporter": "python",
   "pygments_lexer": "ipython3",
   "version": "3.8.13"
  }
 },
 "nbformat": 4,
 "nbformat_minor": 5
}
