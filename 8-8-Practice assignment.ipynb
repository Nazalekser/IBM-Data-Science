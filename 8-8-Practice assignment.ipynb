{
 "cells": [
  {
   "cell_type": "code",
   "execution_count": 1,
   "id": "8739f53d-2715-475a-bd08-70d0bdc7d34e",
   "metadata": {},
   "outputs": [
    {
     "name": "stderr",
     "output_type": "stream",
     "text": [
      " * Running on http://localhost:8050/ (Press CTRL+C to quit)\n",
      "127.0.0.1 - - [03/Feb/2022 11:56:47] \"GET /_alive_6768f13d-a8ed-410d-8b1c-04e490aa186b HTTP/1.1\" 200 -\n"
     ]
    },
    {
     "data": {
      "text/html": [
       "\n",
       "        <iframe\n",
       "            width=\"100%\"\n",
       "            height=\"650\"\n",
       "            src=\"http://localhost:8050/\"\n",
       "            frameborder=\"0\"\n",
       "            allowfullscreen\n",
       "            \n",
       "        ></iframe>\n",
       "        "
      ],
      "text/plain": [
       "<IPython.lib.display.IFrame at 0x178f391e6a0>"
      ]
     },
     "metadata": {},
     "output_type": "display_data"
    }
   ],
   "source": [
    "# Import required packages\n",
    "import pandas as pd\n",
    "from jupyter_dash import JupyterDash\n",
    "from dash import html, dcc\n",
    "import plotly.express as px\n",
    "from dash.dependencies import Input, Output\n",
    "\n",
    "# Add Dataframe\n",
    "df = pd.DataFrame({\n",
    "    \"Fruit\": [\"Apples\", \"Oranges\", \"Bananas\", \"Apples\", \"Oranges\", \"Bananas\"],\n",
    "    \"Amount\": [4, 1, 2, 2, 4, 5],\n",
    "    \"City\": [\"SF\", \"SF\", \"SF\", \"NYC\", \"MTL\", \"NYC\"]\n",
    "})\n",
    "\n",
    "# Add a bar graph figure\n",
    "fig = px.bar(df, x=\"Fruit\", y=\"Amount\", color=\"City\", barmode=\"group\")\n",
    "\n",
    "app = JupyterDash()\n",
    "app.layout = html.Div(children=[\n",
    "    html.H1(\n",
    "        children='Dashboard',\n",
    "        style={'textAlign': 'center'}\n",
    "    ),\n",
    "    \n",
    "    # Create dropdown\n",
    "    dcc.Dropdown(options=[\n",
    "            {'label': 'New York City', 'value': 'NYC'},\n",
    "            {'label': 'Montréal', 'value': 'MTL'},\n",
    "            {'label': 'San Francisco', 'value': 'SF'}\n",
    "        ],\n",
    "        value='MTL' # Providing a vallue to dropdown\n",
    "    ),\n",
    "\n",
    "    # Bar graph\n",
    "    dcc.Graph(id='example-graph-2',figure=fig)\n",
    "])\n",
    "\n",
    "# Run Application\n",
    "if __name__ == '__main__':\n",
    "    app.run_server(mode=\"inline\", host=\"localhost\", debug=False, dev_tools_ui=False, dev_tools_props_check=False)"
   ]
  },
  {
   "cell_type": "markdown",
   "id": "80db141c-c118-48f7-8361-26a3a2b7d44a",
   "metadata": {},
   "source": [
    "## Task 3: Practice Exercise\n",
    "Story:\n",
    "\n",
    "Here we are looking into an automobile dataset which has various attributes like drive-wheels,body-style and price.\n",
    "\n",
    "Lets view the snapshot of our selected dataset.\n",
    "\n",
    "Here let's say we are selecting 3 important features drive-wheels, body-style and Price.\n",
    "\n",
    "The possible values of drive-wheels are 4 wheel Drive(4wd),Front WheelDrive(fwd) and Rear wheel Drive(rwd).\n",
    "The different body styles of the cars are hardtop,sedan,convertible and so on.\n",
    "\n",
    "There are 2 types of people here:\n",
    "\n",
    "    A customer who wants to purchase the cars with less price , different body styles and wants to look for the drive wheel with this arrangement.\n",
    "    A dealer who wants to showcase the prices for the cars with different body styles and drive wheels.\n",
    "\n",
    "As a data analyst, you have been given a task to visually show the body-style and prices with respect to each drive wheel selected.\n",
    "So ideally you want to showcase this in the form of 2 interactive charts such as pie chart and bar chart on selection of drive wheel.\n",
    "\n",
    "Below is the key item,\n",
    "\n",
    "    Drive wheels\n",
    "    \n",
    "Components of the item\n",
    "    Drive Wheel Type\n",
    "    For the chosen Drive wheel:\n",
    "    \n",
    "    Pie Chart showing body style and price.\n",
    "    Bar Chart showing body style and price.\n",
    "To do:\n",
    "\n",
    "    Import required libraries and read the dataset\n",
    "    Create an application layout\n",
    "    Add title to the dashboard using HTML H1 component\n",
    "    Add a dropdown using dcc.dropdown\n",
    "    Add the pie chart and bar chart core graph components.\n",
    "    Run the app\n",
    "\n"
   ]
  },
  {
   "cell_type": "code",
   "execution_count": 21,
   "id": "e966444d-645f-47e9-a8fe-5d8bdd6e9438",
   "metadata": {},
   "outputs": [
    {
     "data": {
      "text/html": [
       "\n",
       "        <iframe\n",
       "            width=\"100%\"\n",
       "            height=\"650\"\n",
       "            src=\"http://localhost:8050/\"\n",
       "            frameborder=\"0\"\n",
       "            allowfullscreen\n",
       "            \n",
       "        ></iframe>\n",
       "        "
      ],
      "text/plain": [
       "<IPython.lib.display.IFrame at 0x178f974e1f0>"
      ]
     },
     "metadata": {},
     "output_type": "display_data"
    }
   ],
   "source": [
    "import plotly.graph_objects as go\n",
    "from dash import no_update\n",
    "\n",
    "app = JupyterDash(__name__)\n",
    "\n",
    "# REVIEW1: Clear the layout and do not display exception till callback gets executed\n",
    "app.config.suppress_callback_exceptions = True\n",
    "\n",
    "# Read the automobiles data into pandas dataframe\n",
    "auto_data =  pd.read_csv('https://cf-courses-data.s3.us.cloud-object-storage.appdomain.cloud/IBMDeveloperSkillsNetwork-DA0101EN-SkillsNetwork/labs/Data%20files/automobileEDA.csv', \n",
    "                         encoding = \"ISO-8859-1\",\n",
    "                        )\n",
    "\n",
    "#Layout Section of Dash\n",
    "\n",
    "#TASK 3A: Add title to the dashboard\n",
    "app.layout = html.Div(children=[html.H1('Car Automobile Components',\n",
    "                                style={'textAlign': 'center', 'color': '#503D36',\n",
    "                                'font-size': 24}),\n",
    "    #outer division starts\n",
    "    html.Div([\n",
    "        # First inner divsion for  adding dropdown helper text for Selected Drive wheels\n",
    "        html.Div(\n",
    "            # TASK 3B: Add a Label to the dropdown\n",
    "            [html.H2('Drive Wheels Type:', style={'margin-right': '2em'}),]\n",
    "        ),\n",
    "        # TASK 3C: Next lets add the dropdown right below the first inner division\n",
    "        dcc.Dropdown(\n",
    "            id='demo-dropdown',\n",
    "            options=[\n",
    "                {'label': 'Rear Wheel Drive', 'value': 'rwd'},\n",
    "                {'label': 'Front Wheel Drive', 'value': 'fwd'},\n",
    "                {'label': 'Four Wheel Drive', 'value': '4wd'}\n",
    "            ],\n",
    "            value='rwd'\n",
    "        ),\n",
    "        #Second Inner division for adding 2 inner divisions for 2 output graphs\n",
    "        html.Div([\n",
    "            # TASK 3D: Add two empty divisions for output inside the next inner division\n",
    "            html.Div([ ], id='plot1'),\n",
    "            html.Div([ ], id='plot2')\n",
    "        ],\n",
    "        style={'display': 'flex'}),\n",
    "    \n",
    "    ])\n",
    "    #outer division ends\n",
    "])\n",
    "#layout ends\n",
    "\n",
    "# TASK 3E: Add the Ouput and input components inside the app.callback decorator\n",
    "#Place to add @app.callback Decorator\n",
    "@app.callback([Output(component_id='plot1', component_property='children'),\n",
    "               Output(component_id='plot2', component_property='children')],\n",
    "               Input(component_id='demo-dropdown', component_property='value'))\n",
    "\n",
    "# TASK 3F: Add the callback function\n",
    "def display_selected_drive_charts(value):\n",
    "    \n",
    "    filtered_df = auto_data[auto_data['drive-wheels']==value].groupby(['drive-wheels','body-style'],as_index=False). \\\n",
    "            mean()\n",
    "    \n",
    "    filtered_df = filtered_df\n",
    "    \n",
    "    fig1 = px.pie(filtered_df, values='price', names='body-style', title=\"Pie Chart\")\n",
    "    fig2 = px.bar(filtered_df, x='body-style', y='price', title='Bar Chart')\n",
    "    \n",
    "    return [dcc.Graph(figure=fig1),\n",
    "            dcc.Graph(figure=fig2) ]\n",
    "\n",
    "if __name__ == '__main__':\n",
    "    app.run_server(mode=\"inline\", host=\"localhost\", debug=False, dev_tools_ui=False, dev_tools_props_check=False)"
   ]
  },
  {
   "cell_type": "code",
   "execution_count": 10,
   "id": "65d1a4b7-b4c5-45d3-af51-354a3c53966a",
   "metadata": {},
   "outputs": [
    {
     "data": {
      "text/plain": [
       "(201, 29)"
      ]
     },
     "execution_count": 10,
     "metadata": {},
     "output_type": "execute_result"
    }
   ],
   "source": [
    "auto_data.shape"
   ]
  },
  {
   "cell_type": "code",
   "execution_count": null,
   "id": "f22fec3f-37bd-4901-b076-526cb6f23ee6",
   "metadata": {},
   "outputs": [],
   "source": []
  }
 ],
 "metadata": {
  "kernelspec": {
   "display_name": "Python 3 (ipykernel)",
   "language": "python",
   "name": "python3"
  },
  "language_info": {
   "codemirror_mode": {
    "name": "ipython",
    "version": 3
   },
   "file_extension": ".py",
   "mimetype": "text/x-python",
   "name": "python",
   "nbconvert_exporter": "python",
   "pygments_lexer": "ipython3",
   "version": "3.8.11"
  }
 },
 "nbformat": 4,
 "nbformat_minor": 5
}
